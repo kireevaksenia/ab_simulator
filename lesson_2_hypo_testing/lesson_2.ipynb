{
 "cells": [
  {
   "cell_type": "markdown",
   "id": "a3189e7d",
   "metadata": {},
   "source": [
    "# 2.1 урок\n",
    "\n",
    "## Семинар Проверка гипотез"
   ]
  },
  {
   "cell_type": "code",
   "execution_count": 30,
   "id": "d0f96c2d",
   "metadata": {},
   "outputs": [],
   "source": [
    "import os\n",
    "import pandas as pd\n",
    "import numpy as np\n",
    "import matplotlib.pyplot as plt\n",
    "import scipy.stats as stats\n",
    "from datetime import datetime\n"
   ]
  },
  {
   "cell_type": "markdown",
   "id": "7fb4c0c3",
   "metadata": {},
   "source": [
    "### Задача 1. Отличия до эксперимента\n",
    "  \n",
    "\n",
    "Возьмите те же группы, что и в эксперименте с изменением дизайна сайта, и проверьте значимость отличий средней выручки с пользователя на неделе перед экспериментом (c 2022.03.16 по 2022.03.23).\n",
    "\n",
    "В качестве ответа введите p-value, округлённое до 3-го знака после точки."
   ]
  },
  {
   "cell_type": "markdown",
   "id": "126bb2d7",
   "metadata": {},
   "source": [
    "#### МОЕ РЕШЕНИЕ "
   ]
  },
  {
   "cell_type": "code",
   "execution_count": 31,
   "id": "e1769e6a",
   "metadata": {},
   "outputs": [],
   "source": [
    "URL_BASE = 'https://raw.githubusercontent.com/ab-courses/simulator-ab-datasets/main/2022-04-01/'\n",
    "\n",
    "def read_database(file_name):\n",
    "    return pd.read_csv(os.path.join(URL_BASE, file_name))\n",
    "\n",
    "df_sales = read_database('2022-04-01T12_df_sales.csv')\n",
    "df_sales['date'] = pd.to_datetime(df_sales['date'])"
   ]
  },
  {
   "cell_type": "code",
   "execution_count": 32,
   "id": "8b582d4c",
   "metadata": {},
   "outputs": [],
   "source": [
    "experiment_users = read_database('experiment_users.csv')"
   ]
  },
  {
   "cell_type": "markdown",
   "id": "39bb9a56",
   "metadata": {},
   "source": [
    "Группа на неделе перед экспериментом"
   ]
  },
  {
   "cell_type": "code",
   "execution_count": 33,
   "id": "372c8254",
   "metadata": {},
   "outputs": [
    {
     "data": {
      "text/html": [
       "<div>\n",
       "<style scoped>\n",
       "    .dataframe tbody tr th:only-of-type {\n",
       "        vertical-align: middle;\n",
       "    }\n",
       "\n",
       "    .dataframe tbody tr th {\n",
       "        vertical-align: top;\n",
       "    }\n",
       "\n",
       "    .dataframe thead th {\n",
       "        text-align: right;\n",
       "    }\n",
       "</style>\n",
       "<table border=\"1\" class=\"dataframe\">\n",
       "  <thead>\n",
       "    <tr style=\"text-align: right;\">\n",
       "      <th></th>\n",
       "      <th>user_id</th>\n",
       "      <th>price</th>\n",
       "    </tr>\n",
       "  </thead>\n",
       "  <tbody>\n",
       "    <tr>\n",
       "      <th>0</th>\n",
       "      <td>000096</td>\n",
       "      <td>720</td>\n",
       "    </tr>\n",
       "    <tr>\n",
       "      <th>1</th>\n",
       "      <td>00092c</td>\n",
       "      <td>780</td>\n",
       "    </tr>\n",
       "    <tr>\n",
       "      <th>2</th>\n",
       "      <td>000bb2</td>\n",
       "      <td>720</td>\n",
       "    </tr>\n",
       "    <tr>\n",
       "      <th>3</th>\n",
       "      <td>000ea9</td>\n",
       "      <td>1560</td>\n",
       "    </tr>\n",
       "    <tr>\n",
       "      <th>4</th>\n",
       "      <td>000ec6</td>\n",
       "      <td>690</td>\n",
       "    </tr>\n",
       "  </tbody>\n",
       "</table>\n",
       "</div>"
      ],
      "text/plain": [
       "  user_id  price\n",
       "0  000096    720\n",
       "1  00092c    780\n",
       "2  000bb2    720\n",
       "3  000ea9   1560\n",
       "4  000ec6    690"
      ]
     },
     "execution_count": 33,
     "metadata": {},
     "output_type": "execute_result"
    }
   ],
   "source": [
    "week_before_exp_sales = (\n",
    "    df_sales\n",
    "    [(df_sales['date'] >= datetime(2022, 3, 16)) & (df_sales['date'] < datetime(2022, 3, 23))]\n",
    "    .groupby('user_id')[['price']].sum()\n",
    "    .reset_index()  \n",
    ")\n",
    "week_before_exp_sales.head()"
   ]
  },
  {
   "cell_type": "code",
   "execution_count": 34,
   "id": "af93b60e",
   "metadata": {},
   "outputs": [],
   "source": [
    "df = experiment_users.merge(week_before_exp_sales, on='user_id', how='left').fillna(0)"
   ]
  },
  {
   "cell_type": "code",
   "execution_count": 35,
   "id": "984188d4",
   "metadata": {},
   "outputs": [
    {
     "data": {
      "text/plain": [
       "TtestResult(statistic=-1.2837567415000515, pvalue=0.19923983306424942, df=23331.0)"
      ]
     },
     "execution_count": 35,
     "metadata": {},
     "output_type": "execute_result"
    }
   ],
   "source": [
    "data_control = df[df['pilot'] == 0]['price']\n",
    "data_pilot = df[df['pilot'] == 1]['price']\n",
    "stats.ttest_ind(data_control, data_pilot)"
   ]
  },
  {
   "cell_type": "markdown",
   "id": "546d111a",
   "metadata": {},
   "source": [
    "#### Решение ЛКС"
   ]
  },
  {
   "cell_type": "code",
   "execution_count": 36,
   "id": "4c23e2ee",
   "metadata": {},
   "outputs": [
    {
     "name": "stdout",
     "output_type": "stream",
     "text": [
      "pvalue = 0.199\n"
     ]
    }
   ],
   "source": [
    "URL_BASE = 'https://raw.githubusercontent.com/ab-courses/simulator-ab-datasets/main/2022-04-01/'\n",
    "\n",
    "def read_database(file_name):\n",
    "    return pd.read_csv(os.path.join(URL_BASE, file_name))\n",
    "\n",
    "df_sales = read_database('2022-04-01T12_df_sales.csv')\n",
    "df_sales['date'] = pd.to_datetime(df_sales['date'])\n",
    "df_users = read_database('experiment_users.csv')\n",
    "\n",
    "begin_date = datetime(2022, 3, 16)\n",
    "end_date = datetime(2022, 3, 23)\n",
    "df_metrics = (\n",
    "    df_sales\n",
    "    [(df_sales['date'] >= begin_date) & (df_sales['date'] < end_date)]\n",
    "    .groupby('user_id')[['price']].sum()\n",
    "    .reset_index()  \n",
    ")\n",
    "df = pd.merge(df_users, df_metrics, on='user_id', how='left').fillna(0)\n",
    "\n",
    "data_control = df[df['pilot'] == 0]['price']\n",
    "data_pilot = df[df['pilot'] == 1]['price']\n",
    "pvalue = stats.ttest_ind(data_control, data_pilot).pvalue\n",
    "print(f'pvalue = {pvalue:0.3f}')"
   ]
  },
  {
   "cell_type": "markdown",
   "id": "4e82a324",
   "metadata": {},
   "source": [
    "#### Задача 2. Среднее время между покупками\n",
    "  \n",
    "\n",
    "При выполнении прошлого задания вы могли заметить, что в данных много нулей. Это значит, что большая часть пользователей, совершивших покупку во время эксперимента, не совершала покупок на неделе до эксперимента. Интересно, как часто наши клиенты делают покупки?\n",
    "\n",
    "Оцените среднее время между покупками. Возьмите всех клиентов, у которых 2 и более покупок. Вычислите время между покупками (для клиента с N покупками должно получиться N-1 значения времени). Объедините значения всех клиентов и вычислите среднее.\n",
    "\n",
    "В качестве ответа введите среднее количество дней между покупками, округлённое до целого значения."
   ]
  },
  {
   "cell_type": "markdown",
   "id": "34929950",
   "metadata": {},
   "source": [
    "МОЕ РЕШЕНИЕ"
   ]
  },
  {
   "cell_type": "code",
   "execution_count": 15,
   "id": "d5fb035f",
   "metadata": {},
   "outputs": [],
   "source": [
    "permanent_buyers = df_sales.groupby('user_id', as_index=False)\\\n",
    "                        .agg({'sale_id':'nunique'})\n",
    "\n",
    "permanent_buyers = permanent_buyers[permanent_buyers['sale_id'] >= 2][['user_id']]"
   ]
  },
  {
   "cell_type": "code",
   "execution_count": 16,
   "id": "b37f49b9",
   "metadata": {},
   "outputs": [],
   "source": [
    "permanent_buyers_checks = df_sales[df_sales['user_id'].isin(permanent_buyers['user_id'])].sort_values(['user_id', 'date'])\n",
    "permanent_buyers_checks['previous_order_date'] = permanent_buyers_checks.groupby('user_id')['date'].shift(1)"
   ]
  },
  {
   "cell_type": "code",
   "execution_count": 17,
   "id": "79be0ddf",
   "metadata": {},
   "outputs": [
    {
     "data": {
      "text/plain": [
       "Timedelta('8 days 17:36:38.146473779')"
      ]
     },
     "execution_count": 17,
     "metadata": {},
     "output_type": "execute_result"
    }
   ],
   "source": [
    "permanent_buyers_checks['diff'] = permanent_buyers_checks['date'] - permanent_buyers_checks['previous_order_date']\n",
    "permanent_buyers_checks = permanent_buyers_checks[~permanent_buyers_checks['diff'].isna()]\n",
    "permanent_buyers_checks['diff'].mean()"
   ]
  },
  {
   "cell_type": "markdown",
   "id": "033ef25e",
   "metadata": {},
   "source": [
    "РЕШЕНИЕ ЛМС"
   ]
  },
  {
   "cell_type": "code",
   "execution_count": 19,
   "id": "27aa274d",
   "metadata": {},
   "outputs": [
    {
     "name": "stdout",
     "output_type": "stream",
     "text": [
      "answer: 17\n"
     ]
    }
   ],
   "source": [
    "# для каждого пользователя считаем количество покупок, дату первой и последней покупки\n",
    "df = df_sales.groupby('user_id')[['date']].agg(['count', 'min', 'max'])\n",
    "\n",
    "df.columns = [x[1] for x in df.columns]\n",
    "\n",
    "# оставляем пользователей с 2 и более покупок\n",
    "df = df[df['count'] >= 2]\n",
    "\n",
    "# количество секунд между первой и последней покупкой\n",
    "df['delta'] = (df['max'] - df['min']).dt.total_seconds()\n",
    "\n",
    "\n",
    "# суммарное время между покупками\n",
    "sum_delta = df['delta'].sum()\n",
    "\n",
    "\n",
    "# суммарное количество периодов между покупками\n",
    "count_periods = df['count'].sum() - len(df)\n",
    "\n",
    "\n",
    "# среднее = суммарное время / количество периодов\n",
    "answer = sum_delta / count_periods / 3600 / 24\n",
    "\n",
    "print('answer:', int(round(answer)))"
   ]
  },
  {
   "cell_type": "markdown",
   "id": "d244e905",
   "metadata": {},
   "source": [
    "#### Задача 3. Функция для проверки статистической значимости\n",
    " \n",
    "\n",
    "Для проверки статистической значимости нужно вычислить p-value и сравнить его с уровнем значимости.\n",
    "\n",
    "Напишите функцию get_ttest_pvalue. "
   ]
  },
  {
   "cell_type": "code",
   "execution_count": null,
   "id": "48624055",
   "metadata": {},
   "outputs": [],
   "source": [
    "# шаблон решения\n",
    "\n",
    "import numpy as np\n",
    "from scipy import stats\n",
    "\n",
    "\n",
    "def get_ttest_pvalue(metrics_a_group, metrics_b_group):\n",
    "    \"\"\"Применяет тест Стьюдента, возвращает pvalue.\n",
    "\n",
    "    :param metrics_a_group (np.array): массив значений метрик группы A\n",
    "    :param metrics_a_group (np.array): массив значений метрик группы B\n",
    "    :return (float): значение p-value\n",
    "    \"\"\"\n",
    "    # YOUR_CODE_HERE"
   ]
  },
  {
   "cell_type": "code",
   "execution_count": 27,
   "id": "e243704a",
   "metadata": {},
   "outputs": [],
   "source": [
    "def get_ttest_pvalue(metrics_a_group, metrics_b_group):\n",
    "    \"\"\"Применяет тест Стьюдента, возвращает pvalue.\n",
    "\n",
    "    :param metrics_a_group (np.array): массив значений метрик группы A\n",
    "    :param metrics_a_group (np.array): массив значений метрик группы B\n",
    "    :return (float): значение p-value\n",
    "    \"\"\"\n",
    "    \n",
    "    return stats.ttest_ind(metrics_a_group, metrics_b_group).pvalue"
   ]
  },
  {
   "cell_type": "code",
   "execution_count": null,
   "id": "0e526a79",
   "metadata": {},
   "outputs": [],
   "source": []
  },
  {
   "cell_type": "code",
   "execution_count": null,
   "id": "0d517d17",
   "metadata": {},
   "outputs": [],
   "source": []
  },
  {
   "cell_type": "code",
   "execution_count": null,
   "id": "26bbb42c",
   "metadata": {},
   "outputs": [],
   "source": []
  },
  {
   "cell_type": "code",
   "execution_count": null,
   "id": "d6ef9767",
   "metadata": {},
   "outputs": [],
   "source": []
  },
  {
   "cell_type": "code",
   "execution_count": null,
   "id": "743d213b",
   "metadata": {},
   "outputs": [],
   "source": []
  },
  {
   "cell_type": "code",
   "execution_count": null,
   "id": "bbd11977",
   "metadata": {},
   "outputs": [],
   "source": []
  }
 ],
 "metadata": {
  "kernelspec": {
   "display_name": "Python 3 (ipykernel)",
   "language": "python",
   "name": "python3"
  },
  "language_info": {
   "codemirror_mode": {
    "name": "ipython",
    "version": 3
   },
   "file_extension": ".py",
   "mimetype": "text/x-python",
   "name": "python",
   "nbconvert_exporter": "python",
   "pygments_lexer": "ipython3",
   "version": "3.11.5"
  }
 },
 "nbformat": 4,
 "nbformat_minor": 5
}
