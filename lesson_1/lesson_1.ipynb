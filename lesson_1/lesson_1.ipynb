{
 "cells": [
  {
   "cell_type": "markdown",
   "id": "1eb70f10",
   "metadata": {},
   "source": [
    "# 1.1 урок\n",
    "\n",
    "## Семинар Основы статистики"
   ]
  },
  {
   "cell_type": "markdown",
   "id": "69179461",
   "metadata": {},
   "source": [
    "### Задача 1. Оценка вероятностей\n",
    "\n",
    "\n",
    "40% заказов имеют стоимость больше 1000 рублей каждый. Допустим, новый заказ стоит больше 1000 рублей с вероятностью 0.4. Оцените вероятность того, что из 100 новых заказов 50 или более стоят дороже 1000 рублей.\n",
    "\n",
    "Ответ округлите с точность до 3 знака после точки."
   ]
  },
  {
   "cell_type": "code",
   "execution_count": 3,
   "id": "51468a16",
   "metadata": {},
   "outputs": [
    {
     "name": "stdout",
     "output_type": "stream",
     "text": [
      "answer: 0.027\n"
     ]
    }
   ],
   "source": [
    "import numpy as np\n",
    "\n",
    "# Cгенерируем достаточно большое количество исходов\n",
    "values = np.random.binomial(100, 0.4, size=1000000)\n",
    "\n",
    "# Оценим вероятность того, что 50 или более заказов стоят дороже 1000\n",
    "answer = (values >= 50).mean()\n",
    "print('answer:', round(answer, 3))"
   ]
  },
  {
   "cell_type": "code",
   "execution_count": 4,
   "id": "12b1cff1",
   "metadata": {},
   "outputs": [
    {
     "name": "stdout",
     "output_type": "stream",
     "text": [
      "answer: 0.027\n"
     ]
    }
   ],
   "source": [
    "from scipy import stats\n",
    "\n",
    "answer = 0\n",
    "for k in range(50, 101):\n",
    "    answer += stats.binom.pmf(k, p=0.4, n=100)\n",
    "print('answer:', round(answer, 3))"
   ]
  },
  {
   "cell_type": "code",
   "execution_count": 5,
   "id": "a4e17938",
   "metadata": {},
   "outputs": [
    {
     "name": "stdout",
     "output_type": "stream",
     "text": [
      "answer: 0.027\n"
     ]
    }
   ],
   "source": [
    "from scipy import stats\n",
    "\n",
    "answer = 1 - stats.binom.cdf(49, p=0.4, n=100)\n",
    "print('answer:', round(answer, 3))"
   ]
  },
  {
   "cell_type": "markdown",
   "id": "c267d5fc",
   "metadata": {},
   "source": [
    "#### Ответ: 0.027"
   ]
  },
  {
   "cell_type": "markdown",
   "id": "e3a66cef",
   "metadata": {},
   "source": [
    "###\n",
    "\n",
    "### Задача 2. Популярные товары\n",
    " \n",
    "\n",
    "Определите топ-3 товара по суммарной выручке. Для решения используйте данные из файла 2022-04-01/2022-04-01T12_df_sales_detail.csv."
   ]
  },
  {
   "cell_type": "markdown",
   "id": "4193a836",
   "metadata": {},
   "source": [
    "#### МОЁ РЕШЕНИЕ:"
   ]
  },
  {
   "cell_type": "code",
   "execution_count": 6,
   "id": "39c926a2",
   "metadata": {},
   "outputs": [
    {
     "name": "stderr",
     "output_type": "stream",
     "text": [
      "C:\\Users\\kireevakv\\AppData\\Local\\anaconda3\\Lib\\site-packages\\pandas\\core\\arrays\\masked.py:60: UserWarning: Pandas requires version '1.3.6' or newer of 'bottleneck' (version '1.3.5' currently installed).\n",
      "  from pandas.core import (\n"
     ]
    }
   ],
   "source": [
    "import pandas as pd"
   ]
  },
  {
   "cell_type": "code",
   "execution_count": 11,
   "id": "13e0c41d",
   "metadata": {},
   "outputs": [
    {
     "data": {
      "text/html": [
       "<div>\n",
       "<style scoped>\n",
       "    .dataframe tbody tr th:only-of-type {\n",
       "        vertical-align: middle;\n",
       "    }\n",
       "\n",
       "    .dataframe tbody tr th {\n",
       "        vertical-align: top;\n",
       "    }\n",
       "\n",
       "    .dataframe thead th {\n",
       "        text-align: right;\n",
       "    }\n",
       "</style>\n",
       "<table border=\"1\" class=\"dataframe\">\n",
       "  <thead>\n",
       "    <tr style=\"text-align: right;\">\n",
       "      <th></th>\n",
       "      <th>sale_id</th>\n",
       "      <th>good</th>\n",
       "      <th>price</th>\n",
       "      <th>date</th>\n",
       "      <th>user_id</th>\n",
       "    </tr>\n",
       "  </thead>\n",
       "  <tbody>\n",
       "    <tr>\n",
       "      <th>0</th>\n",
       "      <td>1000001</td>\n",
       "      <td>mexican pizza</td>\n",
       "      <td>720</td>\n",
       "      <td>2022-02-04 10:00:24</td>\n",
       "      <td>1c1543</td>\n",
       "    </tr>\n",
       "    <tr>\n",
       "      <th>1</th>\n",
       "      <td>1000002</td>\n",
       "      <td>chefs pizza</td>\n",
       "      <td>840</td>\n",
       "      <td>2022-02-04 10:02:28</td>\n",
       "      <td>a9a6e8</td>\n",
       "    </tr>\n",
       "    <tr>\n",
       "      <th>2</th>\n",
       "      <td>1000002</td>\n",
       "      <td>orange juice</td>\n",
       "      <td>90</td>\n",
       "      <td>2022-02-04 10:02:28</td>\n",
       "      <td>a9a6e8</td>\n",
       "    </tr>\n",
       "  </tbody>\n",
       "</table>\n",
       "</div>"
      ],
      "text/plain": [
       "   sale_id           good  price                date user_id\n",
       "0  1000001  mexican pizza    720 2022-02-04 10:00:24  1c1543\n",
       "1  1000002    chefs pizza    840 2022-02-04 10:02:28  a9a6e8\n",
       "2  1000002   orange juice     90 2022-02-04 10:02:28  a9a6e8"
      ]
     },
     "execution_count": 11,
     "metadata": {},
     "output_type": "execute_result"
    }
   ],
   "source": [
    "df_sales_detail = pd.read_csv('2022-04-01T12_df_sales_detail.csv')\n",
    "df_sales_detail['date'] = pd.to_datetime(df_sales_detail['date'])\n",
    "df_sales_detail.head(3)"
   ]
  },
  {
   "cell_type": "code",
   "execution_count": 10,
   "id": "08e14d89",
   "metadata": {},
   "outputs": [
    {
     "data": {
      "text/html": [
       "<div>\n",
       "<style scoped>\n",
       "    .dataframe tbody tr th:only-of-type {\n",
       "        vertical-align: middle;\n",
       "    }\n",
       "\n",
       "    .dataframe tbody tr th {\n",
       "        vertical-align: top;\n",
       "    }\n",
       "\n",
       "    .dataframe thead th {\n",
       "        text-align: right;\n",
       "    }\n",
       "</style>\n",
       "<table border=\"1\" class=\"dataframe\">\n",
       "  <thead>\n",
       "    <tr style=\"text-align: right;\">\n",
       "      <th></th>\n",
       "      <th>good</th>\n",
       "      <th>price</th>\n",
       "    </tr>\n",
       "  </thead>\n",
       "  <tbody>\n",
       "    <tr>\n",
       "      <th>3</th>\n",
       "      <td>chefs pizza</td>\n",
       "      <td>24558240</td>\n",
       "    </tr>\n",
       "    <tr>\n",
       "      <th>6</th>\n",
       "      <td>double pepperoni pizza</td>\n",
       "      <td>22558380</td>\n",
       "    </tr>\n",
       "    <tr>\n",
       "      <th>5</th>\n",
       "      <td>chicken bbq pizza</td>\n",
       "      <td>17622540</td>\n",
       "    </tr>\n",
       "  </tbody>\n",
       "</table>\n",
       "</div>"
      ],
      "text/plain": [
       "                     good     price\n",
       "3             chefs pizza  24558240\n",
       "6  double pepperoni pizza  22558380\n",
       "5       chicken bbq pizza  17622540"
      ]
     },
     "execution_count": 10,
     "metadata": {},
     "output_type": "execute_result"
    }
   ],
   "source": [
    "df_sales_detail.groupby('good', as_index=False).agg({'price': 'sum'}).sort_values('price', ascending=False).head(3)"
   ]
  },
  {
   "cell_type": "markdown",
   "id": "219b9829",
   "metadata": {},
   "source": [
    "#### РЕШЕНИЕ ИЗ ЛМС"
   ]
  },
  {
   "cell_type": "code",
   "execution_count": 12,
   "id": "11f586be",
   "metadata": {},
   "outputs": [
    {
     "name": "stdout",
     "output_type": "stream",
     "text": [
      "Ответ: ['chicken bbq pizza', 'double pepperoni pizza', 'chefs pizza']\n"
     ]
    }
   ],
   "source": [
    "import os\n",
    "\n",
    "URL_BASE = 'https://raw.githubusercontent.com/ab-courses/simulator-ab-datasets/main/2022-04-01/'\n",
    "\n",
    "def read_database(file_name):\n",
    "    return pd.read_csv(os.path.join(URL_BASE, file_name))\n",
    "\n",
    "df_sales_detail = read_database('2022-04-01T12_df_sales_detail.csv')\n",
    "df_sales_detail['date'] = pd.to_datetime(df_sales_detail['date'])\n",
    "top_3_revenue = (\n",
    "    df_sales_detail\n",
    "    .groupby('good')['price'].sum()\n",
    "    .sort_values()[-3:].index.tolist()\n",
    ")\n",
    "print('Ответ:', top_3_revenue)"
   ]
  },
  {
   "cell_type": "markdown",
   "id": "8c62ae79",
   "metadata": {},
   "source": [
    "### Задача 3. Время от захода на сайт до покупки\n",
    "  \n",
    "\n",
    "Оцените средний срок, который проходит от захода пользователя на сайт до совершения покупки. Будем считать, что заход на сайт относится к покупке, если он был совершён не ранее, чем за два часа до совершения покупки. Другими словами, для каждой покупки нужно посчитать время, которое проходит от покупки до первого захода на сайт того же пользователя в течение двух часов перед покупкой. И от полученных значений времени посчитать среднее.\n",
    "\n",
    "Для решения используйте данные из файлов 2022-04-01T12_df_sales.csv и 2022-04-01T12_df_web_logs.csv.\n",
    "\n",
    "Полученный результат переведите в минуты и округлите до целого значения."
   ]
  },
  {
   "cell_type": "markdown",
   "id": "d2882d6c",
   "metadata": {},
   "source": [
    "#### МОЕ РЕШЕНИЕ"
   ]
  },
  {
   "cell_type": "code",
   "execution_count": 21,
   "id": "4b8afc0f",
   "metadata": {},
   "outputs": [],
   "source": [
    "df_sales = read_database('2022-04-01T12_df_sales.csv')\n",
    "df_sales['date'] = pd.to_datetime(df_sales['date'])\n",
    "df_web_logs = read_database('2022-04-01T12_df_web_logs.csv')\n",
    "df_web_logs['date'] = pd.to_datetime(df_web_logs['date'])\n"
   ]
  },
  {
   "cell_type": "code",
   "execution_count": 22,
   "id": "a61357f7",
   "metadata": {},
   "outputs": [
    {
     "data": {
      "text/html": [
       "<div>\n",
       "<style scoped>\n",
       "    .dataframe tbody tr th:only-of-type {\n",
       "        vertical-align: middle;\n",
       "    }\n",
       "\n",
       "    .dataframe tbody tr th {\n",
       "        vertical-align: top;\n",
       "    }\n",
       "\n",
       "    .dataframe thead th {\n",
       "        text-align: right;\n",
       "    }\n",
       "</style>\n",
       "<table border=\"1\" class=\"dataframe\">\n",
       "  <thead>\n",
       "    <tr style=\"text-align: right;\">\n",
       "      <th></th>\n",
       "      <th>sale_id</th>\n",
       "      <th>date</th>\n",
       "      <th>count_pizza</th>\n",
       "      <th>count_drink</th>\n",
       "      <th>price</th>\n",
       "      <th>user_id</th>\n",
       "    </tr>\n",
       "  </thead>\n",
       "  <tbody>\n",
       "    <tr>\n",
       "      <th>0</th>\n",
       "      <td>1000001</td>\n",
       "      <td>2022-02-04 10:00:24</td>\n",
       "      <td>1</td>\n",
       "      <td>0</td>\n",
       "      <td>720</td>\n",
       "      <td>1c1543</td>\n",
       "    </tr>\n",
       "    <tr>\n",
       "      <th>1</th>\n",
       "      <td>1000002</td>\n",
       "      <td>2022-02-04 10:02:28</td>\n",
       "      <td>1</td>\n",
       "      <td>1</td>\n",
       "      <td>930</td>\n",
       "      <td>a9a6e8</td>\n",
       "    </tr>\n",
       "  </tbody>\n",
       "</table>\n",
       "</div>"
      ],
      "text/plain": [
       "   sale_id                date  count_pizza  count_drink  price user_id\n",
       "0  1000001 2022-02-04 10:00:24            1            0    720  1c1543\n",
       "1  1000002 2022-02-04 10:02:28            1            1    930  a9a6e8"
      ]
     },
     "execution_count": 22,
     "metadata": {},
     "output_type": "execute_result"
    }
   ],
   "source": [
    "df_sales.head(2)"
   ]
  },
  {
   "cell_type": "code",
   "execution_count": 23,
   "id": "ec40a456",
   "metadata": {},
   "outputs": [
    {
     "data": {
      "text/html": [
       "<div>\n",
       "<style scoped>\n",
       "    .dataframe tbody tr th:only-of-type {\n",
       "        vertical-align: middle;\n",
       "    }\n",
       "\n",
       "    .dataframe tbody tr th {\n",
       "        vertical-align: top;\n",
       "    }\n",
       "\n",
       "    .dataframe thead th {\n",
       "        text-align: right;\n",
       "    }\n",
       "</style>\n",
       "<table border=\"1\" class=\"dataframe\">\n",
       "  <thead>\n",
       "    <tr style=\"text-align: right;\">\n",
       "      <th></th>\n",
       "      <th>user_id</th>\n",
       "      <th>page</th>\n",
       "      <th>date</th>\n",
       "      <th>load_time</th>\n",
       "    </tr>\n",
       "  </thead>\n",
       "  <tbody>\n",
       "    <tr>\n",
       "      <th>0</th>\n",
       "      <td>f25239</td>\n",
       "      <td>m</td>\n",
       "      <td>2022-02-03 23:45:37</td>\n",
       "      <td>80.8</td>\n",
       "    </tr>\n",
       "    <tr>\n",
       "      <th>1</th>\n",
       "      <td>06d6df</td>\n",
       "      <td>m</td>\n",
       "      <td>2022-02-03 23:49:56</td>\n",
       "      <td>70.5</td>\n",
       "    </tr>\n",
       "  </tbody>\n",
       "</table>\n",
       "</div>"
      ],
      "text/plain": [
       "  user_id page                date  load_time\n",
       "0  f25239    m 2022-02-03 23:45:37       80.8\n",
       "1  06d6df    m 2022-02-03 23:49:56       70.5"
      ]
     },
     "execution_count": 23,
     "metadata": {},
     "output_type": "execute_result"
    }
   ],
   "source": [
    "df_web_logs.head(2)"
   ]
  },
  {
   "cell_type": "code",
   "execution_count": 38,
   "id": "e600a8f8",
   "metadata": {},
   "outputs": [],
   "source": [
    "base = df_sales.merge(df_web_logs, on=['user_id'], how='left')\n",
    "orders_dates_info = base[((base['date_x'] - base['date_y']).dt.days == 0) & ((base['date_x'] - base['date_y']).dt.components.hours <= 2)]"
   ]
  },
  {
   "cell_type": "code",
   "execution_count": 41,
   "id": "6a85cd5b",
   "metadata": {},
   "outputs": [],
   "source": [
    "sales = orders_dates_info.groupby(['sale_id', 'user_id', 'date_x'], as_index=False).agg({'date_y': 'min'})\n",
    "sales['diff'] = sales['date_x'] - sales['date_y']"
   ]
  },
  {
   "cell_type": "code",
   "execution_count": 47,
   "id": "880760df",
   "metadata": {},
   "outputs": [
    {
     "data": {
      "text/plain": [
       "17.0"
      ]
     },
     "execution_count": 47,
     "metadata": {},
     "output_type": "execute_result"
    }
   ],
   "source": [
    "sales['diff'].dt.total_seconds().div(60).mean().round()"
   ]
  },
  {
   "cell_type": "markdown",
   "id": "c944516b",
   "metadata": {},
   "source": [
    "#### РЕШЕНИЕ ЛМС"
   ]
  },
  {
   "cell_type": "code",
   "execution_count": 51,
   "id": "e07fea91",
   "metadata": {},
   "outputs": [
    {
     "name": "stdout",
     "output_type": "stream",
     "text": [
      "answer: 17\n"
     ]
    }
   ],
   "source": [
    "from datetime import timedelta\n",
    "\n",
    "# объединяем таблицы с покупками и логами по пользователям\n",
    "# оставляем только user_id и времена\n",
    "df = pd.merge(\n",
    "    df_sales[['user_id', 'date']].rename(columns={'date': 'date_sale'}),\n",
    "    df_web_logs[['user_id', 'date']].rename(columns={'date': 'date_web'}),\n",
    "    on='user_id',\n",
    "    how='inner'\n",
    ")\n",
    "\n",
    "# удаляем строки, в которых заход на сайт ранее 2 часов до покупки или после покупки\n",
    "df = df[\n",
    "    (df['date_web'] >= df['date_sale'] - timedelta(hours=2))\n",
    "    & (df['date_web'] < df['date_sale'])\n",
    "].copy()\n",
    "# определяем время первого захода на сайт для покупки\n",
    "df_first_web = df.groupby(['user_id', 'date_sale'])[['date_web']].min().reset_index()\n",
    "# вычисляем время в секундах\n",
    "df_first_web['delta'] = (df_first_web['date_sale'] - df_first_web['date_web']).dt.total_seconds()\n",
    "\n",
    "# считаем среднее время и переводим в минуты\n",
    "answer = round(df_first_web['delta'].mean() / 60)\n",
    "print('answer:', answer)"
   ]
  },
  {
   "cell_type": "markdown",
   "id": "d454e77d",
   "metadata": {},
   "source": [
    "### Задача 4. Знакомство с задачами на код\n",
    "  \n",
    "\n",
    "В заданиях на код вам нужно отправить в систему проверки код с решением. Шаблон для решения будет предоставлен в описании задания. Проверка решения запускается в докер-контейнере, в котором доступны следующие версии библиотек:\n",
    "\n",
    "numpy=1.19.5\n",
    "pandas==1.2.3\n",
    "scipy==1.5.4\n",
    "\n",
    "После окончания проверки отобразятся количество набранных баллов и список пройденных проверок. Если при проверке возникла ошибка, то будет выведено её описание.\n",
    "\n",
    "Напишите функцию sum_two_values. Описание функции есть в шаблоне решения ниже. Скопируйте код шаблона в окно ввода решения, допишите недостающие части, нажмите кнопку \"Отправить решение\".\n",
    "\n",
    "Шаблон решения\n",
    "\n",
    "__def sum_two_values(a, b):__\n",
    "\n",
    "    \"\"\"Возвращает сумму чисел.\"\"\"\n",
    "    \n",
    "    # YOUR_CODE_HERE\n",
    "\n",
    "\n"
   ]
  },
  {
   "cell_type": "code",
   "execution_count": 52,
   "id": "f50dead7",
   "metadata": {},
   "outputs": [],
   "source": [
    "def sum_two_values(a, b):\n",
    "    \"\"\"Возвращает сумму чисел.\"\"\"\n",
    "    return a + b\n"
   ]
  },
  {
   "cell_type": "markdown",
   "id": "c4222b42",
   "metadata": {},
   "source": [
    "#### Задача 5. Функция для фильтрации данных\n",
    "  \n",
    "\n",
    "Для оценки результатов экспериментов нам нужно выбрать данные, полученные во время эксперимента.\n",
    "\n",
    "Напишите функцию get_data_subset.\n",
    "\n",
    "Шаблон решения"
   ]
  },
  {
   "cell_type": "code",
   "execution_count": null,
   "id": "dd7e26e9",
   "metadata": {},
   "outputs": [],
   "source": [
    "from datetime import datetime\n",
    "\n",
    "import pandas as pd\n",
    "\n",
    "\n",
    "def get_data_subset(df, begin_date, end_date, user_ids=None, columns=None):\n",
    "    \"\"\"Возвращает подмножество данных.\n",
    "\n",
    "    :param df (pd.DataFrame): таблица с данными, обязательные столбцы: 'date', 'user_id'.\n",
    "    :param begin_date (datetime.datetime | None): дата начала интервала с данными.\n",
    "        Пример, df[df['date'] >= begin_date].\n",
    "        Если None, то фильтровать не нужно.\n",
    "    :param end_date (datetime.datetime | None): дата окончания интервала с данными.\n",
    "        Пример, df[df['date'] < end_date].\n",
    "        Если None, то фильтровать не нужно.\n",
    "    :param user_ids (list[str] | None): список user_id, по которым нужно предоставить данные.\n",
    "        Пример, df[df['user_id'].isin(user_ids)].\n",
    "        Если None, то фильтровать по user_id не нужно.\n",
    "    :param columns (list[str] | None): список названий столбцов, по которым нужно предоставить данные.\n",
    "        Пример, df[columns].\n",
    "        Если None, то фильтровать по columns не нужно.\n",
    "\n",
    "    :return df (pd.DataFrame): датафрейм с подмножеством данных.\n",
    "    \"\"\"\n",
    "    # YOUR_CODE_HERE"
   ]
  },
  {
   "cell_type": "code",
   "execution_count": 55,
   "id": "f0589209",
   "metadata": {},
   "outputs": [],
   "source": [
    "from datetime import datetime\n",
    "\n",
    "import pandas as pd\n",
    "\n",
    "\n",
    "def get_data_subset(df, begin_date, end_date, user_ids=None, columns=None):\n",
    "    \"\"\"Возвращает подмножество данных.\n",
    "\n",
    "    :param df (pd.DataFrame): таблица с данными, обязательные столбцы: 'date', 'user_id'.\n",
    "    :param begin_date (datetime.datetime | None): дата начала интервала с данными.\n",
    "        Пример, df[df['date'] >= begin_date].\n",
    "        Если None, то фильтровать не нужно.\n",
    "    :param end_date (datetime.datetime | None): дата окончания интервала с данными.\n",
    "        Пример, df[df['date'] < end_date].\n",
    "        Если None, то фильтровать не нужно.\n",
    "    :param user_ids (list[str] | None): список user_id, по которым нужно предоставить данные.\n",
    "        Пример, df[df['user_id'].isin(user_ids)].\n",
    "        Если None, то фильтровать по user_id не нужно.\n",
    "    :param columns (list[str] | None): список названий столбцов, по которым нужно предоставить данные.\n",
    "        Пример, df[columns].\n",
    "        Если None, то фильтровать по columns не нужно.\n",
    "\n",
    "    :return df (pd.DataFrame): датафрейм с подмножеством данных.\n",
    "    \"\"\"\n",
    "    df['date'] = pd.to_datetime(df['date'])\n",
    "    \n",
    "    if begin_date is not None:\n",
    "        df = df[df['date']> begin_date]\n",
    "    \n",
    "    if end_date is not None:\n",
    "        df = df[df['date'] < end_date]\n",
    "    \n",
    "    if user_ids is not None:\n",
    "        df = df[df['user_id'].isin(user_ids)]\n",
    "        \n",
    "    if columns is not None:\n",
    "        return df[columns]"
   ]
  },
  {
   "cell_type": "markdown",
   "id": "f649a1dd",
   "metadata": {},
   "source": [
    "#### Задача 6. Функции вычисления метрик\n",
    " \n",
    "\n",
    "Напишите функции get_response_time, get_revenue_web и get_revenue_all для вычисления метрик «revenue (web)», «revenue (all)» и «response time»."
   ]
  },
  {
   "cell_type": "code",
   "execution_count": null,
   "id": "9c05da2c",
   "metadata": {},
   "outputs": [],
   "source": [
    "# Шаблон решения\n",
    "\n",
    "import pandas as pd\n",
    "\n",
    "from datetime import datetime\n",
    "\n",
    "\n",
    "def get_response_time(df_web_logs, begin_date, end_date):\n",
    "    \"\"\"Вычисляет значения времени обработки запроса сервером.\n",
    "\n",
    "    Нужно вернуть значения user_id и load_time из таблицы df_web_logs,\n",
    "    отфильтрованные по дате.\n",
    "    Считаем, что запросы обрабатываются независимо, поэтому группировать\n",
    "    по user_id не нужно.\n",
    "\n",
    "    :param df_web_logs (pd.DataFrame): таблица с логами сайта, содержит\n",
    "    столбцы ['user_id', 'date', 'load_time'].\n",
    "    :param begin_date, end_date (datetime): границы периода для\n",
    "    фильтрации данных по дате. Левая граница входит, правая не входит.\n",
    "\n",
    "    :return (pd.DataFrame): датафрейм с двумя столбцами ['user_id', 'metric']\n",
    "    \"\"\"\n",
    "    # YOUR_CODE_HERE\n",
    "\n",
    "\n",
    "def get_revenue_web(df_sales, df_web_logs, begin_date, end_date):\n",
    "    \"\"\"Вычисляет значения выручки с пользователя за указанный период\n",
    "    для заходивших на сайт в указанный период.\n",
    "\n",
    "    Эти данные нужны для экспериментов на сайте, когда в эксперимент\n",
    "    попадают только те, кто заходил на сайт во время эксперимента.\n",
    "\n",
    "    Нужно вернуть значения user_id и выручки (sum(price)) за указанный\n",
    "    период для пользователей, заходивших на сайт в указанный период.\n",
    "    Если пользователь зашёл на сайт и ничего не купил, его суммарная\n",
    "    стоимость покупок равна нулю.\n",
    "    Для каждого user_id должно быть ровно одно значение.\n",
    "\n",
    "    :param df_sales (pd.DataFrame): таблица с продажами, содержит\n",
    "        столбцы ['user_id', 'date', 'price'].\n",
    "    :param df_web_logs (pd.DataFrame): таблица с логами сайта, содержит\n",
    "        столбцы ['user_id', 'date', 'load_time'].\n",
    "    :param begin_date, end_date (datetime): границы периода для фильтрации\n",
    "        данных по дате. Левая граница входит, правая не входит.\n",
    "\n",
    "    :return (pd.DataFrame): датафрейм с двумя столбцами ['user_id', 'metric']\n",
    "    \"\"\"\n",
    "    # YOUR_CODE_HERE\n",
    "\n",
    "\n",
    "def get_revenue_all(df_sales, df_web_logs, begin_date, end_date):\n",
    "    \"\"\"Вычисляет значения выручки с пользователя за указанный период\n",
    "    для заходивших на сайт до end_date.\n",
    "\n",
    "    Эти данные нужны, например, для экспериментов с рассылкой по email,\n",
    "    когда в эксперимент попадают те, кто когда-либо оставил нам свои данные.\n",
    "\n",
    "    Нужно вернуть значения user_id и выручки (sum(price)) за указанный период\n",
    "    для пользователей, заходивших на сайт до end_date.\n",
    "    Если пользователь ничего не купил за указанный период, его суммарная\n",
    "    стоимость покупок равна нулю.\n",
    "    Для каждого user_id должно быть ровно одно значение.\n",
    "\n",
    "    :param df_sales (pd.DataFrame): таблица с продажами, содержит\n",
    "        столбцы ['user_id', 'date', 'price'].\n",
    "    :param df_web_logs (pd.DataFrame): таблица с логами сайта, содержит\n",
    "        столбцы ['user_id', 'date', 'load_time'].\n",
    "    :param begin_date, end_date (datetime): границы периода для фильтрации\n",
    "        данных по дате. Левая граница входит, правая не входит.\n",
    "\n",
    "    :return (pd.DataFrame): датафрейм с двумя столбцами ['user_id', 'metric']\n",
    "    \"\"\"\n",
    "    # YOUR_CODE_HERE"
   ]
  },
  {
   "cell_type": "markdown",
   "id": "9149c6a7",
   "metadata": {},
   "source": [
    "#### МОЕ РЕШЕНИЕ"
   ]
  },
  {
   "cell_type": "code",
   "execution_count": 77,
   "id": "f224b480",
   "metadata": {},
   "outputs": [],
   "source": [
    "import pandas as pd\n",
    "\n",
    "from datetime import datetime\n",
    "\n",
    "\n",
    "def get_response_time(df_web_logs, begin_date, end_date):\n",
    "    \"\"\"Вычисляет значения времени обработки запроса сервером.\n",
    "\n",
    "    Нужно вернуть значения user_id и load_time из таблицы df_web_logs,\n",
    "    отфильтрованные по дате.\n",
    "    Считаем, что запросы обрабатываются независимо, поэтому группировать\n",
    "    по user_id не нужно.\n",
    "\n",
    "    :param df_web_logs (pd.DataFrame): таблица с логами сайта, содержит\n",
    "    столбцы ['user_id', 'date', 'load_time'].\n",
    "    :param begin_date, end_date (datetime): границы периода для\n",
    "    фильтрации данных по дате. Левая граница входит, правая не входит.\n",
    "\n",
    "    :return (pd.DataFrame): датафрейм с двумя столбцами ['user_id', 'metric']\n",
    "    \"\"\"\n",
    "    df_web_logs['date'] = pd.to_datetime(df_web_logs['date'])\n",
    "    \n",
    "    if begin_date:\n",
    "        df_web_logs = df_web_logs[(df_web_logs['date'] >= begin_date)]\n",
    "    if end_date:\n",
    "        df_web_logs = df_web_logs[(df_web_logs['date'] < end_date)]\n",
    "        \n",
    "    res = df_web_logs[['user_id', 'load_time']].rename(columns={'load_time': 'metric'})\n",
    "        \n",
    "    return res\n",
    "\n",
    "\n",
    "def get_revenue_web(df_sales, df_web_logs, begin_date, end_date):\n",
    "    \"\"\"Вычисляет значения выручки с пользователя за указанный период\n",
    "    для заходивших на сайт в указанный период.\n",
    "\n",
    "    Эти данные нужны для экспериментов на сайте, когда в эксперимент\n",
    "    попадают только те, кто заходил на сайт во время эксперимента.\n",
    "\n",
    "    Нужно вернуть значения user_id и выручки (sum(price)) за указанный\n",
    "    период для пользователей, заходивших на сайт в указанный период.\n",
    "    Если пользователь зашёл на сайт и ничего не купил, его суммарная\n",
    "    стоимость покупок равна нулю.\n",
    "    Для каждого user_id должно быть ровно одно значение.\n",
    "\n",
    "    :param df_sales (pd.DataFrame): таблица с продажами, содержит\n",
    "        столбцы ['user_id', 'date', 'price'].\n",
    "    :param df_web_logs (pd.DataFrame): таблица с логами сайта, содержит\n",
    "        столбцы ['user_id', 'date', 'load_time'].\n",
    "    :param begin_date, end_date (datetime): границы периода для фильтрации\n",
    "        данных по дате. Левая граница входит, правая не входит.\n",
    "\n",
    "    :return (pd.DataFrame): датафрейм с двумя столбцами ['user_id', 'metric']\n",
    "    \"\"\"\n",
    "    df_sales['date'] = pd.to_datetime(df_sales['date'])\n",
    "    \n",
    "    visitors = get_response_time(df_web_logs, begin_date, end_date)[['user_id']].drop_duplicates()\n",
    "        \n",
    "    if begin_date:\n",
    "        df_sales = df_sales[(df_sales['date'] >= begin_date)]\n",
    "    if end_date:\n",
    "        df_sales = df_sales[(df_sales['date'] < end_date)]\n",
    "    \n",
    "    buyers = df_sales.groupby('user_id', as_index=False).agg({'price': 'sum'}).rename(columns={'price': 'metric'})\n",
    "    \n",
    "    visitors_purchases = visitors.merge(buyers, on='user_id', how='outer').fillna(0)\n",
    "    \n",
    "    return visitors_purchases\n",
    "\n",
    "def get_revenue_all(df_sales, df_web_logs, begin_date, end_date):\n",
    "    \"\"\"Вычисляет значения выручки с пользователя за указанный период\n",
    "    для заходивших на сайт до end_date.\n",
    "\n",
    "    Эти данные нужны, например, для экспериментов с рассылкой по email,\n",
    "    когда в эксперимент попадают те, кто когда-либо оставил нам свои данные.\n",
    "\n",
    "    Нужно вернуть значения user_id и выручки (sum(price)) за указанный период\n",
    "    для пользователей, заходивших на сайт до end_date.\n",
    "    Если пользователь ничего не купил за указанный период, его суммарная\n",
    "    стоимость покупок равна нулю.\n",
    "    Для каждого user_id должно быть ровно одно значение.\n",
    "\n",
    "    :param df_sales (pd.DataFrame): таблица с продажами, содержит\n",
    "        столбцы ['user_id', 'date', 'price'].\n",
    "    :param df_web_logs (pd.DataFrame): таблица с логами сайта, содержит\n",
    "        столбцы ['user_id', 'date', 'load_time'].\n",
    "    :param begin_date, end_date (datetime): границы периода для фильтрации\n",
    "        данных по дате. Левая граница входит, правая не входит.\n",
    "\n",
    "    :return (pd.DataFrame): датафрейм с двумя столбцами ['user_id', 'metric']\n",
    "    \"\"\"\n",
    "    df_sales['date'] = pd.to_datetime(df_sales['date'])\n",
    "    \n",
    "    visitors = get_response_time(df_web_logs, None, end_date)[['user_id']].drop_duplicates()\n",
    "        \n",
    "    if begin_date:\n",
    "        df_sales = df_sales[(df_sales['date'] >= begin_date)]\n",
    "    if end_date:\n",
    "        df_sales = df_sales[(df_sales['date'] < end_date)]\n",
    "    \n",
    "    buyers = df_sales.groupby('user_id', as_index=False).agg({'price': 'sum'}).rename(columns={'price': 'metric'})\n",
    "    \n",
    "    visitors_purchases = visitors.merge(buyers, on='user_id', how='outer').fillna(0)\n",
    "    \n",
    "    return visitors_purchases"
   ]
  },
  {
   "cell_type": "markdown",
   "id": "1902b87a",
   "metadata": {},
   "source": [
    "#### РЕШЕНИЕ ЛМС"
   ]
  },
  {
   "cell_type": "code",
   "execution_count": null,
   "id": "ab629a91",
   "metadata": {},
   "outputs": [],
   "source": [
    "import pandas as pd\n",
    "\n",
    "\n",
    "def get_data_subset(df, begin_date, end_date, user_ids=None, columns=None):\n",
    "    if begin_date:\n",
    "        df = df[df['date'] >= begin_date]\n",
    "    if end_date:\n",
    "        df = df[df['date'] < end_date]\n",
    "    if user_ids:\n",
    "        df = df[df['user_id'].isin(user_ids)]\n",
    "    if columns:\n",
    "        df = df[columns]\n",
    "    return df.copy()\n",
    "\n",
    "\n",
    "def get_response_time(df_web_logs, begin_date, end_date):\n",
    "    return (\n",
    "        get_data_subset(df_web_logs, begin_date, end_date, None, ['user_id', 'load_time'])\n",
    "        .rename(columns={'load_time': 'metric'})\n",
    "        [['user_id', 'metric']]\n",
    "    )\n",
    "\n",
    "\n",
    "def get_revenue_web(df_sales, df_web_logs, begin_date, end_date):\n",
    "    df_users = (\n",
    "        get_data_subset(df_web_logs, begin_date, end_date, None, ['user_id'])\n",
    "        .drop_duplicates()\n",
    "    )\n",
    "    df = (\n",
    "        get_data_subset(df_sales, begin_date, end_date, None, ['user_id', 'price'])\n",
    "        .groupby('user_id')[['price']].sum().reset_index() \n",
    "        .rename(columns={'price': 'metric'})\n",
    "    )\n",
    "    df = pd.merge(df_users, df, on='user_id', how='left').fillna(0)\n",
    "    return df[['user_id', 'metric']]\n",
    "\n",
    "\n",
    "def get_revenue_all(df_sales, df_web_logs, begin_date, end_date):\n",
    "    df_users = (\n",
    "        get_data_subset(df_web_logs, None, end_date, None, ['user_id'])\n",
    "        .drop_duplicates()\n",
    "    )\n",
    "    df = (\n",
    "        get_data_subset(df_sales, begin_date, end_date, None, ['user_id', 'price'])\n",
    "        .groupby('user_id')[['price']].sum().reset_index() \n",
    "        .rename(columns={'price': 'metric'})\n",
    "    )\n",
    "    df = pd.merge(df_users, df, on='user_id', how='left').fillna(0)\n",
    "    return df[['user_id', 'metric']]\n"
   ]
  },
  {
   "cell_type": "code",
   "execution_count": null,
   "id": "3d6fce09",
   "metadata": {},
   "outputs": [],
   "source": []
  },
  {
   "cell_type": "code",
   "execution_count": null,
   "id": "ed90fb5a",
   "metadata": {},
   "outputs": [],
   "source": []
  },
  {
   "cell_type": "code",
   "execution_count": null,
   "id": "47ac8ed9",
   "metadata": {},
   "outputs": [],
   "source": []
  },
  {
   "cell_type": "code",
   "execution_count": null,
   "id": "e6fe4915",
   "metadata": {},
   "outputs": [],
   "source": []
  },
  {
   "cell_type": "code",
   "execution_count": null,
   "id": "7150b9f4",
   "metadata": {},
   "outputs": [],
   "source": []
  },
  {
   "cell_type": "code",
   "execution_count": null,
   "id": "8f2cc840",
   "metadata": {},
   "outputs": [],
   "source": []
  },
  {
   "cell_type": "code",
   "execution_count": null,
   "id": "b4188275",
   "metadata": {},
   "outputs": [],
   "source": []
  },
  {
   "cell_type": "code",
   "execution_count": null,
   "id": "fdb660d7",
   "metadata": {},
   "outputs": [],
   "source": []
  },
  {
   "cell_type": "code",
   "execution_count": null,
   "id": "ba42e688",
   "metadata": {},
   "outputs": [],
   "source": []
  },
  {
   "cell_type": "code",
   "execution_count": null,
   "id": "979e0418",
   "metadata": {},
   "outputs": [],
   "source": []
  },
  {
   "cell_type": "code",
   "execution_count": null,
   "id": "13df0abb",
   "metadata": {},
   "outputs": [],
   "source": []
  },
  {
   "cell_type": "code",
   "execution_count": null,
   "id": "80ac6321",
   "metadata": {},
   "outputs": [],
   "source": []
  }
 ],
 "metadata": {
  "kernelspec": {
   "display_name": "Python 3 (ipykernel)",
   "language": "python",
   "name": "python3"
  },
  "language_info": {
   "codemirror_mode": {
    "name": "ipython",
    "version": 3
   },
   "file_extension": ".py",
   "mimetype": "text/x-python",
   "name": "python",
   "nbconvert_exporter": "python",
   "pygments_lexer": "ipython3",
   "version": "3.11.5"
  }
 },
 "nbformat": 4,
 "nbformat_minor": 5
}
